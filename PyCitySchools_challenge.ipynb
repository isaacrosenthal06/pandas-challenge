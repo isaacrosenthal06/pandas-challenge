{
 "cells": [
  {
   "cell_type": "code",
   "execution_count": null,
   "id": "2c03157d",
   "metadata": {},
   "outputs": [],
   "source": [
    "import pandas as pd\n",
    "import numpy as np"
   ]
  },
  {
   "cell_type": "code",
   "execution_count": null,
   "id": "693cc60f",
   "metadata": {},
   "outputs": [],
   "source": [
    "school_csv = '../Resources/schools_complete.csv'\n",
    "student_csv = '../Resources/students_complete.csv'\n",
    "\n",
    "school_df = pd.read_csv(school_csv)\n",
    "student_df = pd.read_csv(student_csv)\n",
    "\n",
    "school_merge_df = pd.merge(student_df, school_df, how='left', on=['school_name', 'school_name'])\n",
    "\n",
    "school_merge_df.head()"
   ]
  },
  {
   "cell_type": "code",
   "execution_count": null,
   "id": "8669bcf8",
   "metadata": {},
   "outputs": [],
   "source": [
    "district_df = school_merge_df\n",
    "district_df.tail()"
   ]
  },
  {
   "cell_type": "code",
   "execution_count": null,
   "id": "aef766ad",
   "metadata": {},
   "outputs": [],
   "source": []
  },
  {
   "cell_type": "code",
   "execution_count": null,
   "id": "364c179d",
   "metadata": {},
   "outputs": [],
   "source": [
    "district_df = district_df[['school_name', 'student_name', 'budget', 'reading_score', 'math_score']]\n",
    "district_df.head()"
   ]
  },
  {
   "cell_type": "code",
   "execution_count": null,
   "id": "ca55b891",
   "metadata": {},
   "outputs": [],
   "source": [
    "totalschools = len(district_df['school_name'].unique())\n",
    "totalschools"
   ]
  },
  {
   "cell_type": "code",
   "execution_count": null,
   "id": "66f51af6",
   "metadata": {},
   "outputs": [],
   "source": [
    "totalstudents = len(district_df['student_name'])\n",
    "totalstudents"
   ]
  },
  {
   "cell_type": "code",
   "execution_count": null,
   "id": "3d6716b1",
   "metadata": {},
   "outputs": [],
   "source": [
    "totalbudget = str((district_df['budget'].unique()).sum())\n",
    "totalbudget\n",
    "\n"
   ]
  },
  {
   "cell_type": "code",
   "execution_count": null,
   "id": "0ff4c495",
   "metadata": {},
   "outputs": [],
   "source": [
    "avgreadingscore = district_df['reading_score'].mean()\n",
    "avgreadingscore"
   ]
  },
  {
   "cell_type": "code",
   "execution_count": null,
   "id": "8ce61e26",
   "metadata": {},
   "outputs": [],
   "source": [
    "avgmathscore = district_df['math_score'].mean()\n",
    "avgmathscore"
   ]
  },
  {
   "cell_type": "code",
   "execution_count": null,
   "id": "5c80c140",
   "metadata": {},
   "outputs": [],
   "source": [
    "passingmath = (district_df.loc[(district_df['math_score'] >= 70), 'math_score'].count() / totalstudents) * 100\n",
    "passingmath"
   ]
  },
  {
   "cell_type": "code",
   "execution_count": null,
   "id": "fefc471b",
   "metadata": {},
   "outputs": [],
   "source": [
    "passingreading = (district_df.loc[(district_df['reading_score'] >= 70), 'reading_score'].count() / totalstudents) * 100\n",
    "passingreading"
   ]
  },
  {
   "cell_type": "code",
   "execution_count": null,
   "id": "04a3d9d9",
   "metadata": {},
   "outputs": [],
   "source": [
    "passboth = (district_df.loc[(district_df['reading_score'] >= 70) & (district_df['math_score'] >= 70), 'reading_score'].count() / totalstudents) * 100\n",
    "passboth"
   ]
  },
  {
   "cell_type": "code",
   "execution_count": null,
   "id": "bdfe2c3d",
   "metadata": {},
   "outputs": [],
   "source": [
    "districttotal_df = pd.DataFrame({'Total Schools': [totalschools],\n",
    "                                 'Total Students' : [totalstudents],\n",
    "                                 'Total Budget' : [totalbudget],\n",
    "                                 'Average Reading Score' : [avgreadingscore],\n",
    "                                 'Average Math Score' : [avgmathscore],\n",
    "                                 '% Passing Reading' : [passingreading],\n",
    "                                 '% Passing Math' : [passingmath],\n",
    "                                 '% Overall Passing' : [passboth]\n",
    "                                })\n",
    "districttotal_df['Total Budget'] = districttotal_df['Total Budget'].apply(lambda x: f\"${x}\")\n",
    "districttotal_df"
   ]
  },
  {
   "cell_type": "code",
   "execution_count": null,
   "id": "109bbf0f",
   "metadata": {},
   "outputs": [],
   "source": [
    "school_df = school_merge_df\n",
    "school_df.head()"
   ]
  },
  {
   "cell_type": "code",
   "execution_count": null,
   "id": "ad0a29c1",
   "metadata": {},
   "outputs": [],
   "source": [
    "school_df = school_df[['school_name', 'student_name', 'type', 'budget', 'reading_score', 'math_score']]\n",
    "school_df.rename(columns={'school_name':'School Name'}, inplace = True)\n",
    "school_df.head()\n",
    "\n"
   ]
  },
  {
   "cell_type": "code",
   "execution_count": null,
   "id": "273ed7fe",
   "metadata": {},
   "outputs": [],
   "source": [
    "#school_df = DataFrame(school_df.groupby('school_name'))\n",
    "school_df.head()\n"
   ]
  },
  {
   "cell_type": "code",
   "execution_count": null,
   "id": "c6e98037",
   "metadata": {},
   "outputs": [],
   "source": [
    "school_names = school_df['School Name'].groupby(school_df['School Name']).unique().to_frame()\n",
    "school_names"
   ]
  },
  {
   "cell_type": "code",
   "execution_count": null,
   "id": "8667e9a9",
   "metadata": {},
   "outputs": [],
   "source": [
    "school_types = school_df['type'].groupby(school_df['School Name']).unique().to_frame()\n",
    "school_types"
   ]
  },
  {
   "cell_type": "code",
   "execution_count": null,
   "id": "9d9c2fe3",
   "metadata": {},
   "outputs": [],
   "source": [
    "school_total_students = school_df['student_name'].groupby(school_df['School Name']).count()\n",
    "\n",
    "school_total_students_frame = school_total_students.to_frame()\n",
    "school_total_students_frame\n",
    "school_total_students"
   ]
  },
  {
   "cell_type": "code",
   "execution_count": null,
   "id": "cb758d76",
   "metadata": {},
   "outputs": [],
   "source": [
    "school_total_budget = school_df['budget'].groupby(school_df['School Name']).unique()\n",
    "\n",
    "school_total_budget_frame = school_total_budget.to_frame()\n",
    "\n",
    "\n",
    "school_total_budget_frame\n"
   ]
  },
  {
   "cell_type": "code",
   "execution_count": null,
   "id": "f344d2b6",
   "metadata": {},
   "outputs": [],
   "source": [
    "per_student_budget = school_total_budget / school_total_students \n",
    "per_student_budget_frame = per_student_budget.to_frame()\n",
    "per_student_budget_frame"
   ]
  },
  {
   "cell_type": "code",
   "execution_count": null,
   "id": "fca86e5a",
   "metadata": {},
   "outputs": [],
   "source": [
    "total_math_score = school_df['math_score'].groupby(school_df['School Name']).sum()\n",
    "total_math_score"
   ]
  },
  {
   "cell_type": "code",
   "execution_count": null,
   "id": "a0d311d4",
   "metadata": {},
   "outputs": [],
   "source": [
    "average_math_score = total_math_score / school_total_students\n",
    "average_math_score_frame = average_math_score.to_frame()\n",
    "\n",
    "average_math_score_frame = average_math_score_frame.rename(columns={average_math_score_frame.columns[0]: 7})\n",
    "\n",
    "average_math_score_frame"
   ]
  },
  {
   "cell_type": "code",
   "execution_count": null,
   "id": "c386ea8f",
   "metadata": {},
   "outputs": [],
   "source": [
    "total_reading_score = school_df['reading_score'].groupby(school_df['School Name']).sum()\n",
    "total_reading_score"
   ]
  },
  {
   "cell_type": "code",
   "execution_count": null,
   "id": "56885dca",
   "metadata": {},
   "outputs": [],
   "source": [
    "average_reading_score = total_reading_score / school_total_students\n",
    "average_reading_score_frame = average_reading_score.to_frame()\n",
    "average_reading_score_frame = average_reading_score_frame.rename(columns={average_reading_score_frame.columns[0]: 6})\n",
    "average_reading_score_frame"
   ]
  },
  {
   "cell_type": "code",
   "execution_count": null,
   "id": "9bf8b7d1",
   "metadata": {},
   "outputs": [],
   "source": [
    "total_over_70 = school_df.loc[(school_df['reading_score'] >= 70, 'reading_score')].groupby(school_df['School Name']).count()\n",
    "total_over_70          \n",
    "\n",
    "\n",
    "\n"
   ]
  },
  {
   "cell_type": "code",
   "execution_count": null,
   "id": "d4f2b792",
   "metadata": {},
   "outputs": [],
   "source": [
    "percent_passing_reading = (total_over_70 / school_total_students) * 100\n",
    "percent_passing_reading_frame = percent_passing_reading.to_frame()\n",
    "percent_passing_reading_frame = percent_passing_reading_frame.rename(columns={percent_passing_reading_frame.columns[0]:9})\n",
    "percent_passing_reading_frame"
   ]
  },
  {
   "cell_type": "code",
   "execution_count": null,
   "id": "4235e812",
   "metadata": {},
   "outputs": [],
   "source": [
    "total_pass_math = school_df.loc[(school_df['math_score'] >= 70), 'math_score'].groupby(school_df['School Name']).count()\n",
    "total_pass_math"
   ]
  },
  {
   "cell_type": "code",
   "execution_count": null,
   "id": "a9922c08",
   "metadata": {},
   "outputs": [],
   "source": [
    "percent_passing_math = (total_pass_math / school_total_students) * 100\n",
    "percent_passing_math_frame = percent_passing_math.to_frame()\n",
    "percent_passing_math_frame = percent_passing_math_frame.rename(columns={percent_passing_math_frame.columns[0]: 3})\n",
    "percent_passing_math_frame"
   ]
  },
  {
   "cell_type": "code",
   "execution_count": null,
   "id": "af9aa4c9",
   "metadata": {},
   "outputs": [],
   "source": [
    "overall_passing = school_df.loc[(school_df['math_score'] >= 70) & (school_df['reading_score'] >= 70), 'math_score'].groupby(school_df['School Name']).count()\n",
    "overall_passing"
   ]
  },
  {
   "cell_type": "code",
   "execution_count": null,
   "id": "f65d6cef",
   "metadata": {},
   "outputs": [],
   "source": [
    "percent_overall_passing = (overall_passing / school_total_students) * 100\n",
    "percent_overall_passing_frame = percent_overall_passing.to_frame()\n",
    "percent_overall_passing_frame = percent_overall_passing_frame.rename(columns={percent_overall_passing_frame.columns[0]: 4})\n",
    "percent_overall_passing_frame"
   ]
  },
  {
   "cell_type": "code",
   "execution_count": null,
   "id": "f1b68abd",
   "metadata": {},
   "outputs": [],
   "source": [
    "byschool_df = school_types.merge(school_total_students_frame, on= 'School Name')\n",
    "byschool_df = byschool_df.merge(school_total_budget_frame, on = 'School Name')\n",
    "byschool_df = byschool_df.merge(per_student_budget_frame, on = 'School Name')\n",
    "byschool_df = byschool_df.merge(average_math_score_frame, on = 'School Name')\n",
    "byschool_df = byschool_df.merge(average_reading_score_frame, on = 'School Name')\n",
    "byschool_df = byschool_df.merge(percent_passing_math_frame, on = 'School Name')\n",
    "byschool_df = byschool_df.merge(percent_passing_reading_frame, on = 'School Name')\n",
    "byschool_df = byschool_df.merge(percent_overall_passing_frame, on = 'School Name')\n",
    "byschool_df.rename(columns={byschool_df.columns[0]: \"School Type\",\n",
    "                   byschool_df.columns[1] : 'Total Students',\n",
    "                   byschool_df.columns[2] : 'Total School Budget',\n",
    "                   byschool_df.columns[3] : 'Per Student Budget',\n",
    "                   byschool_df.columns[4] : 'Average Math Score',\n",
    "                   byschool_df.columns[5] : 'Average Reading Score',\n",
    "                   byschool_df.columns[6] : '% Passing Math',\n",
    "                   byschool_df.columns[7] : '% Passing Reading',\n",
    "                   byschool_df.columns[8] : '% Overall Passing'}\n",
    " , inplace = True)\n",
    "\n",
    "byschool_df['Total School Budget'] = byschool_df['Total School Budget'].astype(str).str.strip('[]')\n",
    "byschool_df['Total School Budget'] = byschool_df['Total School Budget'].apply(lambda x: f\"${x}\")\n",
    "byschool_df['Per Student Budget'] = byschool_df['Per Student Budget'].astype(str).str.strip('[]')\n",
    "byschool_df['Per Student Budget'] = byschool_df['Per Student Budget'].apply(lambda x: f\"${x}\")\n",
    "byschool_df"
   ]
  },
  {
   "cell_type": "code",
   "execution_count": null,
   "id": "b740d58b",
   "metadata": {},
   "outputs": [],
   "source": [
    "topfive_df = byschool_df.sort_values('% Overall Passing', ascending = False)\n",
    "topfive_df.head(5)"
   ]
  },
  {
   "cell_type": "code",
   "execution_count": null,
   "id": "908e5e9f",
   "metadata": {},
   "outputs": [],
   "source": [
    "bottomfive_df = byschool_df.sort_values('% Overall Passing', ascending = True)\n",
    "bottomfive_df.head()"
   ]
  },
  {
   "cell_type": "code",
   "execution_count": null,
   "id": "ef7966d5",
   "metadata": {},
   "outputs": [],
   "source": [
    "grade_df = school_merge_df\n",
    "grade_df = grade_df.rename(columns= {'school_name' : 'School Name'})\n",
    "grade_df.head()"
   ]
  },
  {
   "cell_type": "code",
   "execution_count": null,
   "id": "76f5333c",
   "metadata": {},
   "outputs": [],
   "source": [
    "grade9scores = grade_df.loc[(grade_df['grade'] == '9th'), 'math_score'].groupby(grade_df['School Name']).mean() \n",
    "grade9scores\n",
    "grade10scores = grade_df.loc[(grade_df['grade'] == '10th'), 'math_score'].groupby(grade_df['School Name']).mean()\n",
    "grade10scores\n",
    "grade11scores = grade_df.loc[(grade_df['grade'] == '11th'), 'math_score'].groupby(grade_df['School Name']).mean()\n",
    "grade11scores\n",
    "grade12scores = grade_df.loc[(grade_df['grade'] == '12th'), 'math_score'].groupby(grade_df['School Name']).mean()\n",
    "grade12scores.head()"
   ]
  },
  {
   "cell_type": "code",
   "execution_count": null,
   "id": "da332754",
   "metadata": {},
   "outputs": [],
   "source": [
    "avgmathpergrade_df = pd.DataFrame(columns = ['9th', '10th', '11th', '12th'])\n",
    "avgmathpergrade_df['9th'] = grade9scores\n",
    "avgmathpergrade_df['10th'] = grade10scores\n",
    "avgmathpergrade_df['11th'] = grade11scores\n",
    "avgmathpergrade_df['12th'] = grade12scores\n",
    "avgmathpergrade_df"
   ]
  },
  {
   "cell_type": "code",
   "execution_count": null,
   "id": "167ef219",
   "metadata": {},
   "outputs": [],
   "source": [
    "grade9readingscores = grade_df.loc[(grade_df['grade'] == '9th'), 'reading_score'].groupby(grade_df['School Name']).mean() \n",
    "grade9readingscores\n",
    "grade10readingscores = grade_df.loc[(grade_df['grade'] == '10th'), 'reading_score'].groupby(grade_df['School Name']).mean()\n",
    "grade10readingscores\n",
    "grade11readingscores = grade_df.loc[(grade_df['grade'] == '11th'), 'reading_score'].groupby(grade_df['School Name']).mean()\n",
    "grade11readingscores\n",
    "grade12readingscores = grade_df.loc[(grade_df['grade'] == '12th'), 'reading_score'].groupby(grade_df['School Name']).mean()\n",
    "grade12readingscores.head()"
   ]
  },
  {
   "cell_type": "code",
   "execution_count": null,
   "id": "c46f4af1",
   "metadata": {},
   "outputs": [],
   "source": [
    "avgreadingpergrade_df = pd.DataFrame(columns = ['9th', '10th', '11th', '12th'])\n",
    "avgreadingpergrade_df['9th'] = grade9readingscores\n",
    "avgreadingpergrade_df['10th'] = grade10readingscores\n",
    "avgreadingpergrade_df['11th'] = grade11readingscores\n",
    "avgreadingpergrade_df['12th'] = grade12readingscores\n",
    "avgreadingpergrade_df"
   ]
  },
  {
   "cell_type": "code",
   "execution_count": null,
   "id": "c17a2a6e",
   "metadata": {},
   "outputs": [],
   "source": [
    "spending_df = byschool_df\n",
    "spending_df = spending_df.reset_index()\n",
    "spending_df['Per Student Budget'] = spending_df['Per Student Budget'].str.strip('$').astype(float)\n",
    "spending_df"
   ]
  },
  {
   "cell_type": "code",
   "execution_count": null,
   "id": "7fb9dd82",
   "metadata": {},
   "outputs": [],
   "source": [
    "bins = [0, 585, 630, 645, 680]\n",
    "group_names = ['<$585', '$585-630', '$630-645', '$645-680']\n",
    "spending_df['Spending Ranges (Per Student)'] = pd.cut(spending_df['Per Student Budget'], bins, labels = group_names)\n",
    "groupedspending_df = spending_df.set_index(spending_df['Spending Ranges (Per Student)'])\n",
    "\n",
    "groupedspending_df = spending_df.groupby(['Spending Ranges (Per Student)']).mean()[['Average Math Score', 'Average Reading Score', '% Passing Math', '% Passing Reading', '% Overall Passing']]\n",
    "\n",
    "groupedspending_df"
   ]
  },
  {
   "cell_type": "code",
   "execution_count": null,
   "id": "b5f130d8",
   "metadata": {},
   "outputs": [],
   "source": [
    "size_df = byschool_df\n",
    "size_df = size_df.reset_index()\n",
    "size_df"
   ]
  },
  {
   "cell_type": "code",
   "execution_count": null,
   "id": "cf9d8681",
   "metadata": {},
   "outputs": [],
   "source": [
    "bins1 = [0, 1000, 2000, 5000]\n",
    "group_names1 = ['Small (<1000)', 'Medium (1000-2000)', 'Large (2000-5000)']\n",
    "size_df['School Size'] = pd.cut(size_df['Total Students'], bins1, labels = group_names1)\n",
    "groupedsize_df = size_df.set_index(size_df['School Size'])\n",
    "\n",
    "groupedsize_df = size_df.groupby(['School Size']).mean()[['Average Math Score', 'Average Reading Score', '% Passing Math', '% Passing Reading', '% Overall Passing']]\n",
    "\n",
    "groupedsize_df.head()"
   ]
  },
  {
   "cell_type": "code",
   "execution_count": null,
   "id": "0194892c",
   "metadata": {},
   "outputs": [],
   "source": [
    "type_df = byschool_df\n",
    "type_df = byschool_df.reset_index()\n",
    "type_df"
   ]
  },
  {
   "cell_type": "code",
   "execution_count": null,
   "id": "16bb9345",
   "metadata": {},
   "outputs": [],
   "source": [
    "\n",
    "type_df['School Type'] = type_df['School Type'].astype(str).str.strip('[]')\n",
    "\n",
    "groupedtype_df = type_df.set_index('School Type')\n",
    "\n",
    "groupedtype_df = type_df.groupby('School Type').mean()[['Average Math Score', 'Average Reading Score', '% Passing Math', '% Passing Reading', '% Overall Passing']]\n",
    "\n",
    "groupedtype_df.head()"
   ]
  }
 ],
 "metadata": {
  "kernelspec": {
   "display_name": "Python 3 (ipykernel)",
   "language": "python",
   "name": "python3"
  },
  "language_info": {
   "codemirror_mode": {
    "name": "ipython",
    "version": 3
   },
   "file_extension": ".py",
   "mimetype": "text/x-python",
   "name": "python",
   "nbconvert_exporter": "python",
   "pygments_lexer": "ipython3",
   "version": "3.9.7"
  }
 },
 "nbformat": 4,
 "nbformat_minor": 5
}
